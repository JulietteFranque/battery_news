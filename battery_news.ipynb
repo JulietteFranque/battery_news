{
 "cells": [
  {
   "cell_type": "code",
   "execution_count": null,
   "id": "43b66724",
   "metadata": {},
   "outputs": [],
   "source": [
    "from pygooglenews import GoogleNews\n",
    "import numpy as np\n",
    "import matplotlib.pyplot as plt\n",
    "import pandas as pd\n",
    "plt.style.use('ggplot')\n",
    "import plotly.express as px\n",
    "from tqdm import tqdm\n",
    "import plotly.offline as pyo\n",
    "pyo.init_notebook_mode()"
   ]
  },
  {
   "cell_type": "code",
   "execution_count": null,
   "id": "113df46b",
   "metadata": {},
   "outputs": [],
   "source": [
    "!which python"
   ]
  },
  {
   "cell_type": "code",
   "execution_count": null,
   "id": "e1dbe829",
   "metadata": {},
   "outputs": [],
   "source": [
    "gn = GoogleNews()"
   ]
  },
  {
   "cell_type": "code",
   "execution_count": null,
   "id": "2ac33466",
   "metadata": {},
   "outputs": [],
   "source": [
    "dates = pd.date_range('2013-12-01', '2022-01-01', freq='6M', inclusive='both')\n",
    "dates_str = list(dates.strftime('%Y-%m-%d'))"
   ]
  },
  {
   "cell_type": "code",
   "execution_count": null,
   "id": "3251db90",
   "metadata": {},
   "outputs": [],
   "source": [
    "def make_string(inc_type):\n",
    "    string = f'battery intitle:{inc_type} intitle:(fire OR flames OR exploded OR explosion)'\n",
    "    return string"
   ]
  },
  {
   "cell_type": "code",
   "execution_count": null,
   "id": "2e5d91d4",
   "metadata": {},
   "outputs": [],
   "source": [
    "types = ['hoverboard', 'electric+car', 'scooter', 'vape', 'bike','phone']\n",
    "strings = [make_string(type) for type in types]\n",
    "strings"
   ]
  },
  {
   "cell_type": "code",
   "execution_count": null,
   "id": "362dc321",
   "metadata": {},
   "outputs": [],
   "source": [
    "counts = np.zeros([len(strings), len(dates)-1])\n",
    "for n,string in enumerate(strings):\n",
    "    for week in tqdm(range(len(dates)-1)):\n",
    "        searches = gn.search(string, from_=dates_str[week], to_=dates_str[week+1])\n",
    "        counts[n, week] = len(searches['entries'])\n",
    "    "
   ]
  },
  {
   "cell_type": "code",
   "execution_count": null,
   "id": "4bfa0eb3",
   "metadata": {},
   "outputs": [],
   "source": [
    "df = pd.DataFrame(counts).T\n",
    "df.columns = types\n",
    "df['dates'] = np.array(dates[1:])"
   ]
  },
  {
   "cell_type": "code",
   "execution_count": null,
   "id": "55b752f0",
   "metadata": {},
   "outputs": [],
   "source": [
    "df['year'] = df['dates'].apply(lambda x: x.year)"
   ]
  },
  {
   "cell_type": "code",
   "execution_count": null,
   "id": "6eba943c",
   "metadata": {},
   "outputs": [],
   "source": [
    "df_grouped = df.groupby('year').sum().reset_index()\n",
    "df_grouped"
   ]
  },
  {
   "cell_type": "code",
   "execution_count": null,
   "id": "14717efd",
   "metadata": {},
   "outputs": [],
   "source": [
    "types_cleaned = ['hoverboard', 'electric car', 'scooter', 'vape', 'bike','phone']"
   ]
  },
  {
   "cell_type": "code",
   "execution_count": null,
   "id": "5a981b61",
   "metadata": {},
   "outputs": [],
   "source": [
    "!pip install seaborn "
   ]
  },
  {
   "cell_type": "code",
   "execution_count": null,
   "id": "e4ba7a45",
   "metadata": {},
   "outputs": [],
   "source": [
    "import seaborn as sns\n",
    "palette = sns.color_palette(\"Paired\", 6)"
   ]
  },
  {
   "cell_type": "code",
   "execution_count": null,
   "id": "df2775f3",
   "metadata": {},
   "outputs": [],
   "source": [
    "plt.figure(figsize=(15,5))\n",
    "for n,typ in enumerate(types):\n",
    "    \n",
    "    plt.plot(df_grouped['year'], df_grouped[typ], label=types_cleaned[n], color=palette[n],lw=3)\n",
    "    plt.yticks(fontsize=18)\n",
    "    plt.xticks(fontsize=18)\n",
    "    plt.ylabel('number of articles', fontsize=16)\n",
    "    plt.xlabel('year', fontsize=16)\n",
    "    plt.legend(fontsize=18)\n",
    "plt.savefig(f'figures/all_line_plot.png', dpi=300, facecolor='w')\n",
    "plt.figure()"
   ]
  },
  {
   "cell_type": "code",
   "execution_count": null,
   "id": "79044d04",
   "metadata": {},
   "outputs": [],
   "source": [
    "\n",
    "for n,typ in enumerate(types):\n",
    "    plt.figure(figsize=(15,5))\n",
    "    plt.bar(df_grouped['year'], df_grouped[typ], label=types_cleaned[n], color=palette[n],lw=3)\n",
    "    plt.yticks(fontsize=18)\n",
    "    plt.xticks(fontsize=18)\n",
    "    plt.ylabel('number of articles', fontsize=16)\n",
    "    plt.xlabel('year', fontsize=16)\n",
    "    plt.legend(fontsize=18)\n",
    "    plt.savefig(f'figures/{typ}_bar_plot.png', dpi=300, facecolor='w')\n",
    "    plt.figure()"
   ]
  },
  {
   "cell_type": "code",
   "execution_count": null,
   "id": "870b6d06",
   "metadata": {},
   "outputs": [],
   "source": [
    "fig = px.line(df_grouped, x=\"year\", y=types, title='battery incident counts', template=\"plotly\")\n",
    "\n",
    "fig.update_layout(\n",
    "    title=\"Article count\",\n",
    "    xaxis_title=\"counts\",\n",
    "    yaxis_title=\"date\",\n",
    "    legend_title=\"Keywords\",\n",
    "    font=dict(\n",
    "        size=10,\n",
    "        color=\"RebeccaPurple\"\n",
    "    )\n",
    ")\n",
    "fig.show()\n",
    "fig.write_html('figures/lineplot.html')"
   ]
  },
  {
   "cell_type": "code",
   "execution_count": null,
   "id": "11e196db",
   "metadata": {},
   "outputs": [],
   "source": [
    "fig = px.bar(df, x='year', y=types, template=\"plotly\")\n",
    "fig.update_layout(\n",
    "    title=\"Article count\",\n",
    "    xaxis_title=\"year\",\n",
    "    yaxis_title=\"counts\",\n",
    "    legend_title=\"Keywords\",\n",
    "    font=dict(\n",
    "        size=10,\n",
    "        color=\"RebeccaPurple\"\n",
    "    )\n",
    ")\n",
    "\n",
    "fig.show()\n",
    "fig.write_html('figures/barplot.html')"
   ]
  }
 ],
 "metadata": {
  "kernelspec": {
   "display_name": "Python 3 (ipykernel)",
   "language": "python",
   "name": "python3"
  },
  "language_info": {
   "codemirror_mode": {
    "name": "ipython",
    "version": 3
   },
   "file_extension": ".py",
   "mimetype": "text/x-python",
   "name": "python",
   "nbconvert_exporter": "python",
   "pygments_lexer": "ipython3",
   "version": "3.10.4"
  }
 },
 "nbformat": 4,
 "nbformat_minor": 5
}
